{
 "cells": [
  {
   "cell_type": "markdown",
   "metadata": {},
   "source": [
    "# Differential Analysis with Log Transformation: Wild Type vs. Mutants\n",
    "\n",
    "This notebook performs differential analysis to identify EfficientNet-derived features that differ significantly between wild type (WT) and mutants, addressing the issue of p-values being exactly zero.\n",
    "\n",
    "**Data**: Preprocessed bacterial data with 1,280 features, label (0=WT, 1=mutant), batch, group, area, and image_path.\n",
    "\n",
    "**Method**:\n",
    "- Log transformation to handle small mean values and stabilize variance.\n",
    "- Two-sample t-test (Welch’s) and Mann-Whitney U test with Benjamini-Hochberg FDR correction.\n",
    "- Cohen’s d and rank-biserial correlation for effect sizes.\n",
    "- Diagnostics for sample size, normality, and batch effects.\n",
    "\n",
    "**Outputs**: Tables, volcano plots, Q-Q plots, PCA plots, saved in `/scratch/leuven/359/vsc35907/feature_extraction_data/results/differential_analysis/`."
   ]
  },
  {
   "cell_type": "code",
   "execution_count": 17,
   "metadata": {},
   "outputs": [],
   "source": [
    "import pandas as pd\n",
    "import numpy as np\n",
    "import os\n",
    "import matplotlib.pyplot as plt\n",
    "import seaborn as sns\n",
    "from scipy.stats import ttest_ind, mannwhitneyu, shapiro\n",
    "from statsmodels.stats.multitest import multipletests\n",
    "from sklearn.preprocessing import StandardScaler\n",
    "from sklearn.decomposition import PCA\n",
    "import statsmodels.api as sm\n",
    "\n",
    "# Set plot style\n",
    "sns.set_style('whitegrid')\n",
    "\n",
    "# Create results directory\n",
    "os.makedirs('/scratch/leuven/359/vsc35907/feature_extraction_data/results/differential_analysis/', exist_ok=True)"
   ]
  },
  {
   "cell_type": "markdown",
   "metadata": {},
   "source": [
    "## Load and Prepare Data\n",
    "\n",
    "Load feature and area data and merge."
   ]
  },
  {
   "cell_type": "code",
   "execution_count": 18,
   "metadata": {},
   "outputs": [
    {
     "name": "stdout",
     "output_type": "stream",
     "text": [
      "DataFrame shape: (26600, 1282)\n"
     ]
    }
   ],
   "source": [
    "raw_df = pd.read_csv('/scratch/leuven/359/vsc35907/feature_extraction_data/patches3/patches3_rmsprop_features.csv')\n",
    "area_df = pd.read_csv('/scratch/leuven/359/vsc35907/feature_extraction_data/patches3/patches_cell_areas.csv')\n",
    "raw_df = pd.merge(raw_df, area_df, on='image_path', how='inner')\n",
    "print(f'DataFrame shape: {raw_df.shape}')"
   ]
  },
  {
   "cell_type": "code",
   "execution_count": 19,
   "metadata": {},
   "outputs": [
    {
     "data": {
      "text/html": [
       "<div>\n",
       "<style scoped>\n",
       "    .dataframe tbody tr th:only-of-type {\n",
       "        vertical-align: middle;\n",
       "    }\n",
       "\n",
       "    .dataframe tbody tr th {\n",
       "        vertical-align: top;\n",
       "    }\n",
       "\n",
       "    .dataframe thead th {\n",
       "        text-align: right;\n",
       "    }\n",
       "</style>\n",
       "<table border=\"1\" class=\"dataframe\">\n",
       "  <thead>\n",
       "    <tr style=\"text-align: right;\">\n",
       "      <th></th>\n",
       "      <th>image_path</th>\n",
       "      <th>feature_0</th>\n",
       "      <th>feature_1</th>\n",
       "      <th>feature_2</th>\n",
       "      <th>feature_3</th>\n",
       "      <th>feature_4</th>\n",
       "      <th>feature_5</th>\n",
       "      <th>feature_6</th>\n",
       "      <th>feature_7</th>\n",
       "      <th>feature_8</th>\n",
       "      <th>...</th>\n",
       "      <th>feature_1271</th>\n",
       "      <th>feature_1272</th>\n",
       "      <th>feature_1273</th>\n",
       "      <th>feature_1274</th>\n",
       "      <th>feature_1275</th>\n",
       "      <th>feature_1276</th>\n",
       "      <th>feature_1277</th>\n",
       "      <th>feature_1278</th>\n",
       "      <th>feature_1279</th>\n",
       "      <th>area</th>\n",
       "    </tr>\n",
       "  </thead>\n",
       "  <tbody>\n",
       "    <tr>\n",
       "      <th>0</th>\n",
       "      <td>/scratch/leuven/359/vsc35907/feature_extractio...</td>\n",
       "      <td>-0.000015</td>\n",
       "      <td>0.000041</td>\n",
       "      <td>0.000361</td>\n",
       "      <td>-0.000913</td>\n",
       "      <td>0.001696</td>\n",
       "      <td>0.000002</td>\n",
       "      <td>-0.001157</td>\n",
       "      <td>-0.044952</td>\n",
       "      <td>-0.00002</td>\n",
       "      <td>...</td>\n",
       "      <td>-0.000253</td>\n",
       "      <td>-0.000018</td>\n",
       "      <td>-0.000092</td>\n",
       "      <td>0.011581</td>\n",
       "      <td>0.000905</td>\n",
       "      <td>-0.004547</td>\n",
       "      <td>0.000018</td>\n",
       "      <td>-0.000253</td>\n",
       "      <td>-0.001631</td>\n",
       "      <td>620</td>\n",
       "    </tr>\n",
       "  </tbody>\n",
       "</table>\n",
       "<p>1 rows × 1282 columns</p>\n",
       "</div>"
      ],
      "text/plain": [
       "                                          image_path  feature_0  feature_1  \\\n",
       "0  /scratch/leuven/359/vsc35907/feature_extractio...  -0.000015   0.000041   \n",
       "\n",
       "   feature_2  feature_3  feature_4  feature_5  feature_6  feature_7  \\\n",
       "0   0.000361  -0.000913   0.001696   0.000002  -0.001157  -0.044952   \n",
       "\n",
       "   feature_8  ...  feature_1271  feature_1272  feature_1273  feature_1274  \\\n",
       "0   -0.00002  ...     -0.000253     -0.000018     -0.000092      0.011581   \n",
       "\n",
       "   feature_1275  feature_1276  feature_1277  feature_1278  feature_1279  area  \n",
       "0      0.000905     -0.004547      0.000018     -0.000253     -0.001631   620  \n",
       "\n",
       "[1 rows x 1282 columns]"
      ]
     },
     "execution_count": 19,
     "metadata": {},
     "output_type": "execute_result"
    }
   ],
   "source": [
    "raw_df.head(1)"
   ]
  },
  {
   "cell_type": "markdown",
   "metadata": {},
   "source": [
    "## Add Metadata Columns\n",
    "\n",
    "Add label, batch, and group columns based on image_path."
   ]
  },
  {
   "cell_type": "code",
   "execution_count": 20,
   "metadata": {},
   "outputs": [
    {
     "name": "stdout",
     "output_type": "stream",
     "text": [
      "Index(['feature_0', 'feature_1', 'feature_2', 'feature_3', 'feature_4',\n",
      "       'feature_5', 'feature_6', 'feature_7', 'feature_8', 'feature_9',\n",
      "       ...\n",
      "       'feature_1275', 'feature_1276', 'feature_1277', 'feature_1278',\n",
      "       'feature_1279', 'area', 'label', 'batch', 'group', 'image_path'],\n",
      "      dtype='object', length=1285)\n"
     ]
    }
   ],
   "source": [
    "def extract_batch(path):\n",
    "    return int(os.path.basename(path).split()[0][:-3])\n",
    "\n",
    "def extract_group(path):\n",
    "    basename = os.path.basename(path)\n",
    "    directory = os.path.dirname(path)\n",
    "    if 'mutants' in directory:\n",
    "        return int(basename.split()[3])\n",
    "    else:\n",
    "        return int(basename.split()[2])\n",
    "\n",
    "raw_df['label'] = raw_df['image_path'].apply(lambda x: 1 if 'mutant' in x.lower() else 0)\n",
    "raw_df['batch'] = raw_df['image_path'].apply(extract_batch)\n",
    "raw_df['group'] = raw_df['image_path'].apply(extract_group)\n",
    "\n",
    "# Move 'image_path' to the end\n",
    "first_column = raw_df.iloc[:, 0].name\n",
    "raw_df = raw_df[[col for col in raw_df.columns if col != first_column] + [first_column]]\n",
    "print(raw_df.columns)"
   ]
  },
  {
   "cell_type": "markdown",
   "metadata": {},
   "source": [
    "## Data Cleaning\n",
    "\n",
    "Remove columns with one unique value and filter cells with area < 270."
   ]
  },
  {
   "cell_type": "code",
   "execution_count": 21,
   "metadata": {},
   "outputs": [
    {
     "name": "stdout",
     "output_type": "stream",
     "text": [
      "Removed 158 columns with one unique value\n",
      "Area before filtering:\n",
      "count    26600.000000\n",
      "mean       513.643308\n",
      "std        135.906423\n",
      "min         15.000000\n",
      "25%        418.000000\n",
      "50%        494.000000\n",
      "75%        599.000000\n",
      "max       1529.000000\n",
      "Name: area, dtype: float64\n",
      "Area after filtering:\n",
      "count    26230.000000\n",
      "mean       518.581624\n",
      "std        129.854251\n",
      "min        270.000000\n",
      "25%        421.000000\n",
      "50%        496.000000\n",
      "75%        601.000000\n",
      "max       1529.000000\n",
      "Name: area, dtype: float64\n"
     ]
    }
   ],
   "source": [
    "feature_columns = [col for col in raw_df.columns if col.startswith('feature_')]\n",
    "column_names = [col for col in feature_columns if len(raw_df[col].unique()) == 1]\n",
    "raw_df = raw_df.drop(columns=column_names)\n",
    "feature_columns = [col for col in feature_columns if col not in column_names]\n",
    "print(f'Removed {len(column_names)} columns with one unique value')\n",
    "\n",
    "print('Area before filtering:')\n",
    "print(raw_df.area.describe())\n",
    "raw_df = raw_df[raw_df['area'] >= 270]\n",
    "print('Area after filtering:')\n",
    "print(raw_df.area.describe())"
   ]
  },
  {
   "cell_type": "markdown",
   "metadata": {},
   "source": [
    "## Outlier Detection\n",
    "\n",
    "Remove outliers using z-score thresholding."
   ]
  },
  {
   "cell_type": "code",
   "execution_count": 22,
   "metadata": {},
   "outputs": [
    {
     "name": "stdout",
     "output_type": "stream",
     "text": [
      "Cleaned DataFrame shape: (25771, 1127)\n",
      "Outliers DataFrame shape: (459, 1127)\n"
     ]
    }
   ],
   "source": [
    "def filter_outliers_zscore(df, threshold=3):\n",
    "    z_scores = np.abs((df - df.mean()) / df.std())\n",
    "    inlier_mask = (z_scores < threshold).all(axis=1)\n",
    "    return df[inlier_mask], df[~inlier_mask]\n",
    "\n",
    "df, df_outliers = filter_outliers_zscore(raw_df[feature_columns], threshold=9)\n",
    "df = df.assign(**{col: raw_df.loc[df.index, col] for col in ['area', 'label', 'batch', 'group', 'image_path']})\n",
    "df_outliers = df_outliers.assign(**{col: raw_df.loc[df_outliers.index, col] for col in ['area', 'label', 'batch', 'group', 'image_path']})\n",
    "print(f'Cleaned DataFrame shape: {df.shape}')\n",
    "print(f'Outliers DataFrame shape: {df_outliers.shape}')"
   ]
  },
  {
   "cell_type": "markdown",
   "metadata": {},
   "source": [
    "## Sample Size Check\n",
    "\n",
    "Verify sample sizes for WT and mutant groups."
   ]
  },
  {
   "cell_type": "code",
   "execution_count": 23,
   "metadata": {},
   "outputs": [
    {
     "name": "stdout",
     "output_type": "stream",
     "text": [
      "Wild type samples: 13001\n",
      "Mutant samples: 12770\n",
      "Total samples: 25771\n",
      "Warning: Large sample sizes may lead to very small p-values even for small differences.\n"
     ]
    }
   ],
   "source": [
    "wt_count = df[df['label'] == 0].shape[0]\n",
    "mutant_count = df[df['label'] == 1].shape[0]\n",
    "print(f'Wild type samples: {wt_count}')\n",
    "print(f'Mutant samples: {mutant_count}')\n",
    "print(f'Total samples: {df.shape[0]}')\n",
    "if wt_count > 10000 or mutant_count > 10000:\n",
    "    print('Warning: Large sample sizes may lead to very small p-values even for small differences.')\n",
    "else:\n",
    "    print('Sample sizes are reasonable, but verify effect sizes for practical significance.')"
   ]
  },
  {
   "cell_type": "markdown",
   "metadata": {},
   "source": [
    "## Log Transformation and Standardization\n",
    "\n",
    "Apply log transformation to handle small means, followed by standardization."
   ]
  },
  {
   "cell_type": "code",
   "execution_count": 24,
   "metadata": {},
   "outputs": [
    {
     "name": "stdout",
     "output_type": "stream",
     "text": [
      "count    2.577100e+04\n",
      "mean    -6.965830e-09\n",
      "std      1.000019e+00\n",
      "min     -2.726332e-01\n",
      "25%     -2.726332e-01\n",
      "50%     -2.726332e-01\n",
      "75%     -2.726332e-01\n",
      "max      3.667933e+00\n",
      "Name: feature_1, dtype: float64\n"
     ]
    }
   ],
   "source": [
    "df_scaled = df.copy()\n",
    "for col in feature_columns:\n",
    "    if (df[col] < 0).any():\n",
    "        df_scaled[col] = np.log1p(df[col] - df[col].min() + 1)\n",
    "    else:\n",
    "        df_scaled[col] = np.log1p(df[col])\n",
    "        \n",
    "scaler = StandardScaler()\n",
    "df_scaled[feature_columns] = scaler.fit_transform(df_scaled[feature_columns])\n",
    "print(df_scaled[feature_columns[0]].describe())"
   ]
  },
  {
   "cell_type": "code",
   "execution_count": 25,
   "metadata": {},
   "outputs": [
    {
     "data": {
      "text/html": [
       "<div>\n",
       "<style scoped>\n",
       "    .dataframe tbody tr th:only-of-type {\n",
       "        vertical-align: middle;\n",
       "    }\n",
       "\n",
       "    .dataframe tbody tr th {\n",
       "        vertical-align: top;\n",
       "    }\n",
       "\n",
       "    .dataframe thead th {\n",
       "        text-align: right;\n",
       "    }\n",
       "</style>\n",
       "<table border=\"1\" class=\"dataframe\">\n",
       "  <thead>\n",
       "    <tr style=\"text-align: right;\">\n",
       "      <th></th>\n",
       "      <th>feature_1</th>\n",
       "      <th>feature_3</th>\n",
       "      <th>feature_4</th>\n",
       "      <th>feature_5</th>\n",
       "      <th>feature_6</th>\n",
       "      <th>feature_7</th>\n",
       "      <th>feature_9</th>\n",
       "      <th>feature_10</th>\n",
       "      <th>feature_12</th>\n",
       "      <th>feature_13</th>\n",
       "      <th>...</th>\n",
       "      <th>feature_1275</th>\n",
       "      <th>feature_1276</th>\n",
       "      <th>feature_1277</th>\n",
       "      <th>feature_1278</th>\n",
       "      <th>feature_1279</th>\n",
       "      <th>area</th>\n",
       "      <th>label</th>\n",
       "      <th>batch</th>\n",
       "      <th>group</th>\n",
       "      <th>image_path</th>\n",
       "    </tr>\n",
       "  </thead>\n",
       "  <tbody>\n",
       "    <tr>\n",
       "      <th>0</th>\n",
       "      <td>-0.272633</td>\n",
       "      <td>0.989251</td>\n",
       "      <td>-1.471605</td>\n",
       "      <td>1.273993</td>\n",
       "      <td>-0.735781</td>\n",
       "      <td>-1.084953</td>\n",
       "      <td>-6.630252e-13</td>\n",
       "      <td>-1.345636</td>\n",
       "      <td>-0.958659</td>\n",
       "      <td>1.326945</td>\n",
       "      <td>...</td>\n",
       "      <td>-0.804659</td>\n",
       "      <td>-1.202278</td>\n",
       "      <td>-0.985547</td>\n",
       "      <td>-8.832934e-13</td>\n",
       "      <td>0.876336</td>\n",
       "      <td>620</td>\n",
       "      <td>1</td>\n",
       "      <td>190423</td>\n",
       "      <td>3</td>\n",
       "      <td>/scratch/leuven/359/vsc35907/feature_extractio...</td>\n",
       "    </tr>\n",
       "    <tr>\n",
       "      <th>1</th>\n",
       "      <td>-0.272633</td>\n",
       "      <td>0.821968</td>\n",
       "      <td>-0.571317</td>\n",
       "      <td>0.224794</td>\n",
       "      <td>-0.789116</td>\n",
       "      <td>-0.825195</td>\n",
       "      <td>-6.630252e-13</td>\n",
       "      <td>-0.751996</td>\n",
       "      <td>-0.821917</td>\n",
       "      <td>0.784881</td>\n",
       "      <td>...</td>\n",
       "      <td>-0.801155</td>\n",
       "      <td>-0.653534</td>\n",
       "      <td>-0.822064</td>\n",
       "      <td>-8.832934e-13</td>\n",
       "      <td>0.811122</td>\n",
       "      <td>406</td>\n",
       "      <td>1</td>\n",
       "      <td>190423</td>\n",
       "      <td>4</td>\n",
       "      <td>/scratch/leuven/359/vsc35907/feature_extractio...</td>\n",
       "    </tr>\n",
       "  </tbody>\n",
       "</table>\n",
       "<p>2 rows × 1127 columns</p>\n",
       "</div>"
      ],
      "text/plain": [
       "   feature_1  feature_3  feature_4  feature_5  feature_6  feature_7  \\\n",
       "0  -0.272633   0.989251  -1.471605   1.273993  -0.735781  -1.084953   \n",
       "1  -0.272633   0.821968  -0.571317   0.224794  -0.789116  -0.825195   \n",
       "\n",
       "      feature_9  feature_10  feature_12  feature_13  ...  feature_1275  \\\n",
       "0 -6.630252e-13   -1.345636   -0.958659    1.326945  ...     -0.804659   \n",
       "1 -6.630252e-13   -0.751996   -0.821917    0.784881  ...     -0.801155   \n",
       "\n",
       "   feature_1276  feature_1277  feature_1278  feature_1279  area  label  \\\n",
       "0     -1.202278     -0.985547 -8.832934e-13      0.876336   620      1   \n",
       "1     -0.653534     -0.822064 -8.832934e-13      0.811122   406      1   \n",
       "\n",
       "    batch  group                                         image_path  \n",
       "0  190423      3  /scratch/leuven/359/vsc35907/feature_extractio...  \n",
       "1  190423      4  /scratch/leuven/359/vsc35907/feature_extractio...  \n",
       "\n",
       "[2 rows x 1127 columns]"
      ]
     },
     "execution_count": 25,
     "metadata": {},
     "output_type": "execute_result"
    }
   ],
   "source": [
    "df_scaled.head(2)"
   ]
  },
  {
   "cell_type": "markdown",
   "metadata": {},
   "source": [
    "## Normality Check\n",
    "### Split data into wild type and mutant groups"
   ]
  },
  {
   "cell_type": "code",
   "execution_count": 26,
   "metadata": {},
   "outputs": [],
   "source": [
    "wt_df = df_scaled[df_scaled['label'] == 0]\n",
    "mutant_df = df_scaled[df_scaled['label'] == 1]"
   ]
  },
  {
   "cell_type": "code",
   "execution_count": 27,
   "metadata": {},
   "outputs": [],
   "source": [
    "# Define function for Shapiro-Wilk test on subsample\n",
    "def shapiro_subsample(data, subsample_size=500):\n",
    "    if len(data) > subsample_size:\n",
    "        subsample = np.random.choice(data, subsample_size, replace=False)\n",
    "    else:\n",
    "        subsample = data\n",
    "    stat, p = shapiro(subsample)\n",
    "    return p"
   ]
  },
  {
   "cell_type": "code",
   "execution_count": 28,
   "metadata": {},
   "outputs": [
    {
     "name": "stderr",
     "output_type": "stream",
     "text": [
      "/data/leuven/359/vsc35907/miniconda3/envs/omnipose/lib/python3.10/site-packages/scipy/stats/_axis_nan_policy.py:586: UserWarning: scipy.stats.shapiro: Input data has range zero. The results may not be accurate.\n",
      "  res = hypotest_fun_out(*samples, **kwds)\n"
     ]
    },
    {
     "name": "stdout",
     "output_type": "stream",
     "text": [
      "Number of features normally distributed in both groups: 26\n",
      "Number of features not normally distributed in at least one group: 1096\n"
     ]
    }
   ],
   "source": [
    "# Classify features based on normality in both groups\n",
    "normal_features = []\n",
    "non_normal_features = []\n",
    "for feature in feature_columns:\n",
    "    p_wt = shapiro_subsample(wt_df[feature].values)\n",
    "    p_mutant = shapiro_subsample(mutant_df[feature].values)\n",
    "    if p_wt > 0.05 and p_mutant > 0.05:\n",
    "        normal_features.append(feature)\n",
    "    else:\n",
    "        non_normal_features.append(feature)\n",
    "\n",
    "print(f'Number of features normally distributed in both groups: {len(normal_features)}')\n",
    "print(f'Number of features not normally distributed in at least one group: {len(non_normal_features)}')"
   ]
  },
  {
   "cell_type": "code",
   "execution_count": 29,
   "metadata": {},
   "outputs": [
    {
     "name": "stdout",
     "output_type": "stream",
     "text": [
      "['feature_128', 'feature_193', 'feature_207', 'feature_250', 'feature_260', 'feature_286', 'feature_300', 'feature_336', 'feature_442', 'feature_445', 'feature_581', 'feature_623', 'feature_645', 'feature_660', 'feature_725', 'feature_755', 'feature_777', 'feature_794', 'feature_856', 'feature_890', 'feature_910', 'feature_929', 'feature_948', 'feature_1031', 'feature_1080', 'feature_1089']\n"
     ]
    }
   ],
   "source": [
    "print(normal_features)"
   ]
  },
  {
   "cell_type": "code",
   "execution_count": 15,
   "metadata": {},
   "outputs": [],
   "source": [
    "# Define Cohen's d function\n",
    "def cohen_d(x1, x2):\n",
    "    n1, n2 = len(x1), len(x2)\n",
    "    s1, s2 = np.var(x1, ddof=1), np.var(x2, ddof=1)\n",
    "    pooled_std = np.sqrt(((n1 - 1) * s1 + (n2 - 1) * s2) / (n1 + n2 - 2))\n",
    "    return (np.mean(x1) - np.mean(x2)) / pooled_std"
   ]
  },
  {
   "cell_type": "code",
   "execution_count": 16,
   "metadata": {},
   "outputs": [
    {
     "name": "stderr",
     "output_type": "stream",
     "text": [
      "/tmp/ipykernel_2125480/3458022525.py:6: RuntimeWarning: invalid value encountered in scalar divide\n",
      "  return (np.mean(x1) - np.mean(x2)) / pooled_std\n",
      "/data/leuven/359/vsc35907/miniconda3/envs/omnipose/lib/python3.10/site-packages/scipy/stats/_axis_nan_policy.py:586: RuntimeWarning: Precision loss occurred in moment calculation due to catastrophic cancellation. This occurs when the data are nearly identical. Results may be unreliable.\n",
      "  res = hypotest_fun_out(*samples, **kwds)\n"
     ]
    },
    {
     "name": "stdout",
     "output_type": "stream",
     "text": [
      "Differential analysis results:\n",
      "         feature test_used       stat  p_value  effect_size  fdr_p\n",
      "848  feature_967       mwu  4791461.0      0.0     0.942279    NaN\n",
      "655  feature_752       mwu  4801744.0      0.0     0.942156    NaN\n",
      "806  feature_917       mwu  4808843.0      0.0     0.942070    NaN\n",
      "514  feature_591       mwu  4809756.0      0.0     0.942059    NaN\n",
      "542  feature_622       mwu  4819917.0      0.0     0.941937    NaN\n"
     ]
    }
   ],
   "source": [
    "# Differential analysis with appropriate test based on normality\n",
    "results = []\n",
    "for feature in feature_columns:\n",
    "    group1 = wt_df[feature]\n",
    "    group2 = mutant_df[feature]\n",
    "    if feature in normal_features:\n",
    "        stat, pval = ttest_ind(group1, group2, equal_var=False)\n",
    "        effect_size = cohen_d(group1, group2)\n",
    "        test_used = 'ttest'\n",
    "    else:\n",
    "        stat, pval = mannwhitneyu(group1, group2, alternative='two-sided')\n",
    "        u = stat\n",
    "        n1, n2 = len(group1), len(group2)\n",
    "        effect_size = 1 - (2 * u) / (n1 * n2)  # rank-biserial correlation\n",
    "        test_used = 'mwu'\n",
    "    results.append({\n",
    "        'feature': feature,\n",
    "        'test_used': test_used,\n",
    "        'stat': stat,\n",
    "        'p_value': pval,\n",
    "        'effect_size': effect_size\n",
    "    })\n",
    "\n",
    "results_df = pd.DataFrame(results)\n",
    "# Apply FDR correction\n",
    "results_df['fdr_p'] = multipletests(results_df['p_value'], method='fdr_bh')[1]\n",
    "# Sort by absolute effect size\n",
    "results_df = results_df.sort_values(by='effect_size', key=abs, ascending=False)\n",
    "print('Differential analysis results:')\n",
    "print(results_df.head())\n",
    "# Save to CSV\n",
    "results_df.to_csv('/scratch/leuven/359/vsc35907/feature_extraction_data/results/differential_analysis/differential_results.csv', index=False)"
   ]
  },
  {
   "cell_type": "code",
   "execution_count": 15,
   "metadata": {},
   "outputs": [
    {
     "name": "stdout",
     "output_type": "stream",
     "text": [
      "Number of significant features with t-test: 0\n",
      "Number of significant features with Mann-Whitney U: 0\n"
     ]
    }
   ],
   "source": [
    "# Summary of significant features\n",
    "significant_ttest = results_df[(results_df['test_used'] == 'ttest') & (results_df['fdr_p'] < 0.05)]\n",
    "significant_mwu = results_df[(results_df['test_used'] == 'mwu') & (results_df['fdr_p'] < 0.05)]\n",
    "print(f'Number of significant features with t-test: {len(significant_ttest)}')\n",
    "print(f'Number of significant features with Mann-Whitney U: {len(significant_mwu)}')"
   ]
  },
  {
   "cell_type": "code",
   "execution_count": 18,
   "metadata": {},
   "outputs": [
    {
     "data": {
      "text/plain": [
       "Text(0, 0.5, '-log10(FDR p-value)')"
      ]
     },
     "execution_count": 18,
     "metadata": {},
     "output_type": "execute_result"
    },
    {
     "data": {
      "image/png": "[encoded data removed]",
      "text/plain": [
       "<Figure size 1000x600 with 1 Axes>"
      ]
     },
     "metadata": {},
     "output_type": "display_data"
    }
   ],
   "source": [
    "# Visualization: Volcano plot\n",
    "plt.figure(figsize=(10, 6))\n",
    "sns.scatterplot(data=results_df, x='effect_size', y=-np.log10(results_df['fdr_p']), hue='test_used', palette={'ttest': 'blue', 'mwu': 'green'}, alpha=0.6)\n",
    "plt.axhline(-np.log10(0.05), color='black', linestyle='--')\n",
    "plt.title('Volcano Plot: Differential Analysis (WT vs. Mutants)')\n",
    "plt.xlabel('Effect Size (Cohen\\'s d or Rank-Biserial)')\n",
    "plt.ylabel('-log10(FDR p-value)')\n",
    "# plt.savefig('/scratch/leuven/359/vsc35907/feature_extraction_data/results/differential_analysis/volcano_combined.png')\n",
    "# plt.close()"
   ]
  },
  {
   "cell_type": "code",
   "execution_count": 17,
   "metadata": {},
   "outputs": [
    {
     "name": "stdout",
     "output_type": "stream",
     "text": [
      "Features with large Cohen's d (>= 0.8): 0\n",
      "Features with large rank-biserial correlation (>= 0.5): 948\n"
     ]
    }
   ],
   "source": [
    "# Effect size analysis\n",
    "large_effect_ttest = results_df[(results_df['test_used'] == 'ttest') & (abs(results_df['effect_size']) >= 0.8)]\n",
    "large_effect_mwu = results_df[(results_df['test_used'] == 'mwu') & (abs(results_df['effect_size']) >= 0.5)]\n",
    "print(f'Features with large Cohen\\'s d (>= 0.8): {len(large_effect_ttest)}')\n",
    "print(f'Features with large rank-biserial correlation (>= 0.5): {len(large_effect_mwu)}')"
   ]
  },
  {
   "cell_type": "code",
   "execution_count": null,
   "metadata": {},
   "outputs": [],
   "source": []
  },
  {
   "cell_type": "markdown",
   "metadata": {},
   "source": [
    "## Differential Analysis: t-test\n",
    "\n",
    "Perform Welch’s t-test with FDR correction."
   ]
  },
  {
   "cell_type": "code",
   "execution_count": null,
   "metadata": {},
   "outputs": [],
   "source": [
    "def cohen_d(x1, x2):\n",
    "    n1, n2 = len(x1), len(x2)\n",
    "    s1, s2 = np.var(x1, ddof=1), np.var(x2, ddof=1)\n",
    "    pooled_std = np.sqrt(((n1 - 1) * s1 + (n2 - 1) * s2) / (n1 + n2 - 2))\n",
    "    return (np.mean(x1) - np.mean(x2)) / pooled_std\n",
    "\n",
    "def differential_analysis_ttest(df, group1_mask, group2_mask, feature_columns):\n",
    "    group1 = df[group1_mask][feature_columns]\n",
    "    group2 = df[group2_mask][feature_columns]\n",
    "    results = []\n",
    "    for col in feature_columns:\n",
    "        stat, pval = ttest_ind(group1[col], group2[col], equal_var=False)\n",
    "        effect_size = cohen_d(group1[col], group2[col])\n",
    "        results.append({'feature': col, 't_stat': stat, 'p_value': pval, 'cohen_d': effect_size})\n",
    "    results_df = pd.DataFrame(results)\n",
    "    results_df['fdr_p'] = multipletests(results_df['p_value'], method='fdr_bh')[1]\n",
    "    return results_df.sort_values(by='cohen_d', key=abs, ascending=False)\n",
    "\n",
    "wt_mask = df_scaled['label'] == 0\n",
    "mutant_mask = df_scaled['label'] == 1\n",
    "results_ttest = differential_analysis_ttest(df_scaled, wt_mask, mutant_mask, feature_columns)\n",
    "print('t-test results:')\n",
    "print(results_ttest.head())\n",
    "results_ttest.to_csv('/scratch/leuven/359/vsc35907/feature_extraction_data/results/differential_analysis/ttest_results.csv', index=False)"
   ]
  },
  {
   "cell_type": "markdown",
   "metadata": {},
   "source": [
    "## Differential Analysis: Mann-Whitney U\n",
    "\n",
    "Perform Mann-Whitney U test as a non-parametric alternative."
   ]
  },
  {
   "cell_type": "code",
   "execution_count": null,
   "metadata": {},
   "outputs": [],
   "source": [
    "def differential_analysis_mannwhitney(df, group1_mask, group2_mask, feature_columns):\n",
    "    group1 = df[group1_mask][feature_columns]\n",
    "    group2 = df[group2_mask][feature_columns]\n",
    "    results = []\n",
    "    for col in feature_columns:\n",
    "        stat, pval = mannwhitneyu(group1[col], group2[col], alternative='two-sided')\n",
    "        u = stat\n",
    "        n1, n2 = len(group1), len(group2)\n",
    "        rbc = 1 - (2 * u) / (n1 * n2)  # Rank-biserial correlation\n",
    "        results.append({'feature': col, 'u_stat': stat, 'p_value': pval, 'rank_biserial': rbc})\n",
    "    results_df = pd.DataFrame(results)\n",
    "    results_df['fdr_p'] = multipletests(results_df['p_value'], method='fdr_bh')[1]\n",
    "    return results_df.sort_values(by='rank_biserial', key=abs, ascending=False)\n",
    "\n",
    "results_mwu = differential_analysis_mannwhitney(df_scaled, wt_mask, mutant_mask, feature_columns)\n",
    "print('Mann-Whitney U results:')\n",
    "print(results_mwu.head())\n",
    "results_mwu.to_csv('/scratch/leuven/359/vsc35907/feature_extraction_data/results/differential_analysis/mwu_results.csv', index=False)"
   ]
  },
  {
   "cell_type": "markdown",
   "metadata": {},
   "source": [
    "## Visualization\n",
    "\n",
    "Generate volcano plots for both tests."
   ]
  },
  {
   "cell_type": "code",
   "execution_count": null,
   "metadata": {},
   "outputs": [],
   "source": [
    "plt.figure(figsize=(10, 6))\n",
    "sns.scatterplot(data=results_ttest, x='cohen_d', y=-np.log10(results_ttest['fdr_p']), hue=(results_ttest['fdr_p'] < 0.05), palette={True: 'red', False: 'grey'}, alpha=0.6)\n",
    "plt.axhline(-np.log10(0.05), color='black', linestyle='--')\n",
    "plt.title('Volcano Plot: t-test (WT vs. All Mutants)')\n",
    "plt.xlabel(\"Cohen's d\")\n",
    "plt.ylabel('-log10(FDR p-value)')\n",
    "# plt.savefig('/scratch/leuven/359/vsc35907/feature_extraction_data/results/differential_analysis/ttest_volcano.png')\n",
    "# plt.close()\n",
    "\n",
    "plt.figure(figsize=(10, 6))\n",
    "sns.scatterplot(data=results_mwu, x='rank_biserial', y=-np.log10(results_mwu['fdr_p']), hue=(results_mwu['fdr_p'] < 0.05), palette={True: 'red', False: 'grey'}, alpha=0.6)\n",
    "plt.axhline(-np.log10(0.05), color='black', linestyle='--')\n",
    "plt.title('Volcano Plot: Mann-Whitney U (WT vs. All Mutants)')\n",
    "plt.xlabel('Rank-Biserial Correlation')\n",
    "plt.ylabel('-log10(FDR p-value)')\n",
    "# plt.savefig('/scratch/leuven/359/vsc35907/feature_extraction_data/results/differential_analysis/mwu_volcano.png')\n",
    "# plt.close()"
   ]
  },
  {
   "cell_type": "markdown",
   "metadata": {},
   "source": [
    "## Effect Size Analysis\n",
    "\n",
    "Identify features with large effect sizes."
   ]
  },
  {
   "cell_type": "code",
   "execution_count": null,
   "metadata": {},
   "outputs": [],
   "source": [
    "large_effect_ttest = results_ttest[abs(results_ttest['cohen_d']) >= 0.8]\n",
    "large_effect_mwu = results_mwu[abs(results_mwu['rank_biserial']) >= 0.5]\n",
    "print(f'Features with large Cohen\\'s d (>= 0.8): {len(large_effect_ttest)}')\n",
    "print(f'Features with large rank-biserial correlation (>= 0.5): {len(large_effect_mwu)}')"
   ]
  },
  {
   "cell_type": "markdown",
   "metadata": {},
   "source": [
    "## Batch Effect Check\n",
    "\n",
    "Visualize batch effects and label separation using PCA."
   ]
  },
  {
   "cell_type": "code",
   "execution_count": null,
   "metadata": {},
   "outputs": [],
   "source": [
    "pca = PCA(n_components=2)\n",
    "pca_result = pca.fit_transform(df_scaled[feature_columns])\n",
    "pca_df = pd.DataFrame({\n",
    "    'PC1': pca_result[:, 0],\n",
    "    'PC2': pca_result[:, 1],\n",
    "    'batch': df_scaled['batch'].astype(str),\n",
    "    'label': df_scaled['label'].map({0: 'WT', 1: 'Mutant'})\n",
    "})\n",
    "plt.figure(figsize=(10, 8))\n",
    "sns.scatterplot(data=pca_df, x='PC1', y='PC2', hue='batch', style='label', palette='deep')\n",
    "plt.title('PCA: Batch Effects and Label Separation')\n",
    "# plt.savefig('/scratch/leuven/359/vsc35907/feature_extraction_data/results/differential_analysis/pca_batch_label.png')\n",
    "# plt.close()"
   ]
  },
  {
   "cell_type": "markdown",
   "metadata": {},
   "source": [
    "## Summary and Recommendations\n",
    "\n",
    "Check the output above for sample sizes, normality, and results.\n",
    "\n",
    "**Key Points**:\n",
    "- **Sample Sizes**: Large sample sizes (>10,000) may cause p-values to be zero. Focus on effect sizes (Cohen’s d ≥ 0.8, rank-biserial ≥ 0.5).\n",
    "- **Normality**: Q-Q plots indicate if features are non-normal. Use Mann-Whitney U results if normality is violated.\n",
    "- **Batch Effects**: PCA plot shows if batch clustering exists. Consider batch correction (e.g., pycombat) if observed.\n",
    "- **Results**: Saved as CSV files and plots in `/scratch/leuven/359/vsc35907/feature_extraction_data/results/differential_analysis/`.\n",
    "\n",
    "**Next Steps**:\n",
    "- Investigate features with large effect sizes biologically.\n",
    "- Apply batch correction if PCA shows clustering by batch.\n",
    "- Consider subsampling if sample sizes are excessively large."
   ]
  }
 ],
 "metadata": {
  "kernelspec": {
   "display_name": "omnipose",
   "language": "python",
   "name": "omnipose"
  },
  "language_info": {
   "codemirror_mode": {
    "name": "ipython",
    "version": 3
   },
   "file_extension": ".py",
   "mimetype": "text/x-python",
   "name": "python",
   "nbconvert_exporter": "python",
   "pygments_lexer": "ipython3",
   "version": "3.10.12"
  }
 },
 "nbformat": 4,
 "nbformat_minor": 4
}
